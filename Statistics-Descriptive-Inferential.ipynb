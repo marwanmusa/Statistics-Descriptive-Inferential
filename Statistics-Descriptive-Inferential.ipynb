{
 "cells": [
  {
   "cell_type": "markdown",
   "metadata": {},
   "source": [
    "# Graded Challenge 3 - Statistics\n",
    "### *Marwan Musa - Batch 12*\n",
    "---"
   ]
  },
  {
   "cell_type": "markdown",
   "metadata": {},
   "source": [
    "## *Bigquery from Google Cloud Platform*"
   ]
  },
  {
   "cell_type": "markdown",
   "metadata": {},
   "source": [
    "```sql\n",
    "\n",
    "SELECT load_time, load_type, load_weight, dropoff_site\n",
    "FROM `bigquery-public-data.austin_waste.waste_and_diversion`\n",
    "LIMIT 150000;"
   ]
  },
  {
   "cell_type": "code",
   "execution_count": 1,
   "metadata": {},
   "outputs": [],
   "source": [
    "import pandas as pd\n",
    "from scipy import stats\n",
    "import numpy as np\n",
    "import matplotlib.pyplot as plt\n",
    "import seaborn as sns"
   ]
  },
  {
   "cell_type": "code",
   "execution_count": 2,
   "metadata": {},
   "outputs": [],
   "source": [
    "df = pd.read_csv('Dataset.csv')"
   ]
  },
  {
   "cell_type": "code",
   "execution_count": 3,
   "metadata": {},
   "outputs": [
    {
     "data": {
      "text/html": [
       "<div>\n",
       "<style scoped>\n",
       "    .dataframe tbody tr th:only-of-type {\n",
       "        vertical-align: middle;\n",
       "    }\n",
       "\n",
       "    .dataframe tbody tr th {\n",
       "        vertical-align: top;\n",
       "    }\n",
       "\n",
       "    .dataframe thead th {\n",
       "        text-align: right;\n",
       "    }\n",
       "</style>\n",
       "<table border=\"1\" class=\"dataframe\">\n",
       "  <thead>\n",
       "    <tr style=\"text-align: right;\">\n",
       "      <th></th>\n",
       "      <th>load_time</th>\n",
       "      <th>load_type</th>\n",
       "      <th>load_weight</th>\n",
       "      <th>dropoff_site</th>\n",
       "    </tr>\n",
       "  </thead>\n",
       "  <tbody>\n",
       "    <tr>\n",
       "      <th>0</th>\n",
       "      <td>2009-08-07 11:51:00 UTC</td>\n",
       "      <td>RECYCLING - SINGLE STREAM</td>\n",
       "      <td>4400.0</td>\n",
       "      <td>MRF</td>\n",
       "    </tr>\n",
       "    <tr>\n",
       "      <th>1</th>\n",
       "      <td>2008-04-11 12:31:00 UTC</td>\n",
       "      <td>RECYCLING - PAPER</td>\n",
       "      <td>1920.0</td>\n",
       "      <td>MRF</td>\n",
       "    </tr>\n",
       "    <tr>\n",
       "      <th>2</th>\n",
       "      <td>2009-01-16 12:58:00 UTC</td>\n",
       "      <td>RECYCLING - SINGLE STREAM</td>\n",
       "      <td>4140.0</td>\n",
       "      <td>MRF</td>\n",
       "    </tr>\n",
       "    <tr>\n",
       "      <th>3</th>\n",
       "      <td>2009-07-10 11:21:00 UTC</td>\n",
       "      <td>RECYCLING - SINGLE STREAM</td>\n",
       "      <td>4020.0</td>\n",
       "      <td>MRF</td>\n",
       "    </tr>\n",
       "    <tr>\n",
       "      <th>4</th>\n",
       "      <td>2006-02-03 12:36:00 UTC</td>\n",
       "      <td>RECYCLING - COMINGLE</td>\n",
       "      <td>1700.0</td>\n",
       "      <td>MRF</td>\n",
       "    </tr>\n",
       "  </tbody>\n",
       "</table>\n",
       "</div>"
      ],
      "text/plain": [
       "                 load_time                  load_type  load_weight  \\\n",
       "0  2009-08-07 11:51:00 UTC  RECYCLING - SINGLE STREAM       4400.0   \n",
       "1  2008-04-11 12:31:00 UTC          RECYCLING - PAPER       1920.0   \n",
       "2  2009-01-16 12:58:00 UTC  RECYCLING - SINGLE STREAM       4140.0   \n",
       "3  2009-07-10 11:21:00 UTC  RECYCLING - SINGLE STREAM       4020.0   \n",
       "4  2006-02-03 12:36:00 UTC       RECYCLING - COMINGLE       1700.0   \n",
       "\n",
       "  dropoff_site  \n",
       "0          MRF  \n",
       "1          MRF  \n",
       "2          MRF  \n",
       "3          MRF  \n",
       "4          MRF  "
      ]
     },
     "execution_count": 3,
     "metadata": {},
     "output_type": "execute_result"
    }
   ],
   "source": [
    "df.head()"
   ]
  },
  {
   "cell_type": "code",
   "execution_count": 4,
   "metadata": {},
   "outputs": [
    {
     "data": {
      "text/html": [
       "<div>\n",
       "<style scoped>\n",
       "    .dataframe tbody tr th:only-of-type {\n",
       "        vertical-align: middle;\n",
       "    }\n",
       "\n",
       "    .dataframe tbody tr th {\n",
       "        vertical-align: top;\n",
       "    }\n",
       "\n",
       "    .dataframe thead th {\n",
       "        text-align: right;\n",
       "    }\n",
       "</style>\n",
       "<table border=\"1\" class=\"dataframe\">\n",
       "  <thead>\n",
       "    <tr style=\"text-align: right;\">\n",
       "      <th></th>\n",
       "      <th>load_time</th>\n",
       "      <th>load_type</th>\n",
       "      <th>load_weight</th>\n",
       "      <th>dropoff_site</th>\n",
       "    </tr>\n",
       "  </thead>\n",
       "  <tbody>\n",
       "    <tr>\n",
       "      <th>149995</th>\n",
       "      <td>2011-08-17 12:45:00 UTC</td>\n",
       "      <td>RECYCLING - SINGLE STREAM</td>\n",
       "      <td>13380.0</td>\n",
       "      <td>TDS - MRF</td>\n",
       "    </tr>\n",
       "    <tr>\n",
       "      <th>149996</th>\n",
       "      <td>2011-06-08 10:59:00 UTC</td>\n",
       "      <td>RECYCLING - SINGLE STREAM</td>\n",
       "      <td>14080.0</td>\n",
       "      <td>TDS - MRF</td>\n",
       "    </tr>\n",
       "    <tr>\n",
       "      <th>149997</th>\n",
       "      <td>2012-04-11 12:09:00 UTC</td>\n",
       "      <td>RECYCLING - SINGLE STREAM</td>\n",
       "      <td>14260.0</td>\n",
       "      <td>TDS - MRF</td>\n",
       "    </tr>\n",
       "    <tr>\n",
       "      <th>149998</th>\n",
       "      <td>2011-08-31 02:50:00 UTC</td>\n",
       "      <td>RECYCLING - SINGLE STREAM</td>\n",
       "      <td>4100.0</td>\n",
       "      <td>TDS - MRF</td>\n",
       "    </tr>\n",
       "    <tr>\n",
       "      <th>149999</th>\n",
       "      <td>2011-07-20 11:21:00 UTC</td>\n",
       "      <td>RECYCLING - SINGLE STREAM</td>\n",
       "      <td>6220.0</td>\n",
       "      <td>TDS - MRF</td>\n",
       "    </tr>\n",
       "  </tbody>\n",
       "</table>\n",
       "</div>"
      ],
      "text/plain": [
       "                      load_time                  load_type  load_weight  \\\n",
       "149995  2011-08-17 12:45:00 UTC  RECYCLING - SINGLE STREAM      13380.0   \n",
       "149996  2011-06-08 10:59:00 UTC  RECYCLING - SINGLE STREAM      14080.0   \n",
       "149997  2012-04-11 12:09:00 UTC  RECYCLING - SINGLE STREAM      14260.0   \n",
       "149998  2011-08-31 02:50:00 UTC  RECYCLING - SINGLE STREAM       4100.0   \n",
       "149999  2011-07-20 11:21:00 UTC  RECYCLING - SINGLE STREAM       6220.0   \n",
       "\n",
       "       dropoff_site  \n",
       "149995    TDS - MRF  \n",
       "149996    TDS - MRF  \n",
       "149997    TDS - MRF  \n",
       "149998    TDS - MRF  \n",
       "149999    TDS - MRF  "
      ]
     },
     "execution_count": 4,
     "metadata": {},
     "output_type": "execute_result"
    }
   ],
   "source": [
    "df.tail()"
   ]
  },
  {
   "cell_type": "markdown",
   "metadata": {},
   "source": [
    "## *Assignment Problems*\n",
    "\n",
    "Kamu adalah anggota tim Data Science di Austin Smart City dan sedang mengerjakan projek analisa sistem pembuangan dan pengelolaan sampah di kota tersebut. Sebagai anggota tim, berdasarkan data yang tersedia, coba analisa data tersebut menggunakan statistik deskriptif dan inferensial, serta berikan insight kepada pemerintah kota Austin mengenai kondisi sistem pembuangan dan pengelolaan sampah. <br>Langkah - langkah analisis :\n",
    "\n",
    "### 1. Pembersihan Data"
   ]
  },
  {
   "cell_type": "code",
   "execution_count": 5,
   "metadata": {},
   "outputs": [
    {
     "data": {
      "text/html": [
       "<div>\n",
       "<style scoped>\n",
       "    .dataframe tbody tr th:only-of-type {\n",
       "        vertical-align: middle;\n",
       "    }\n",
       "\n",
       "    .dataframe tbody tr th {\n",
       "        vertical-align: top;\n",
       "    }\n",
       "\n",
       "    .dataframe thead tr th {\n",
       "        text-align: left;\n",
       "    }\n",
       "\n",
       "    .dataframe thead tr:last-of-type th {\n",
       "        text-align: right;\n",
       "    }\n",
       "</style>\n",
       "<table border=\"1\" class=\"dataframe\">\n",
       "  <thead>\n",
       "    <tr>\n",
       "      <th></th>\n",
       "      <th colspan=\"8\" halign=\"left\">load_weight</th>\n",
       "    </tr>\n",
       "    <tr>\n",
       "      <th></th>\n",
       "      <th>count</th>\n",
       "      <th>mean</th>\n",
       "      <th>std</th>\n",
       "      <th>min</th>\n",
       "      <th>25%</th>\n",
       "      <th>50%</th>\n",
       "      <th>75%</th>\n",
       "      <th>max</th>\n",
       "    </tr>\n",
       "    <tr>\n",
       "      <th>dropoff_site</th>\n",
       "      <th></th>\n",
       "      <th></th>\n",
       "      <th></th>\n",
       "      <th></th>\n",
       "      <th></th>\n",
       "      <th></th>\n",
       "      <th></th>\n",
       "      <th></th>\n",
       "    </tr>\n",
       "  </thead>\n",
       "  <tbody>\n",
       "    <tr>\n",
       "      <th>CLARKSON</th>\n",
       "      <td>1.0</td>\n",
       "      <td>18640.000000</td>\n",
       "      <td>NaN</td>\n",
       "      <td>18640.0</td>\n",
       "      <td>18640.0</td>\n",
       "      <td>18640.0</td>\n",
       "      <td>18640.0</td>\n",
       "      <td>18640.0</td>\n",
       "    </tr>\n",
       "    <tr>\n",
       "      <th>ELMONT</th>\n",
       "      <td>5.0</td>\n",
       "      <td>15303.400000</td>\n",
       "      <td>9887.499573</td>\n",
       "      <td>5480.0</td>\n",
       "      <td>11720.0</td>\n",
       "      <td>12560.0</td>\n",
       "      <td>14900.0</td>\n",
       "      <td>31857.0</td>\n",
       "    </tr>\n",
       "    <tr>\n",
       "      <th>KRAMER</th>\n",
       "      <td>3.0</td>\n",
       "      <td>11660.000000</td>\n",
       "      <td>7813.245164</td>\n",
       "      <td>3980.0</td>\n",
       "      <td>7690.0</td>\n",
       "      <td>11400.0</td>\n",
       "      <td>15500.0</td>\n",
       "      <td>19600.0</td>\n",
       "    </tr>\n",
       "    <tr>\n",
       "      <th>MRF</th>\n",
       "      <td>89603.0</td>\n",
       "      <td>5305.020334</td>\n",
       "      <td>3675.176552</td>\n",
       "      <td>0.0</td>\n",
       "      <td>2680.0</td>\n",
       "      <td>4260.0</td>\n",
       "      <td>6940.0</td>\n",
       "      <td>27320.0</td>\n",
       "    </tr>\n",
       "    <tr>\n",
       "      <th>PARK BEND</th>\n",
       "      <td>386.0</td>\n",
       "      <td>7517.642487</td>\n",
       "      <td>3866.319134</td>\n",
       "      <td>3750.0</td>\n",
       "      <td>5500.0</td>\n",
       "      <td>5500.0</td>\n",
       "      <td>8500.0</td>\n",
       "      <td>20400.0</td>\n",
       "    </tr>\n",
       "    <tr>\n",
       "      <th>TDS - MRF</th>\n",
       "      <td>54018.0</td>\n",
       "      <td>10118.207764</td>\n",
       "      <td>4400.584695</td>\n",
       "      <td>-4480.0</td>\n",
       "      <td>6700.0</td>\n",
       "      <td>10960.0</td>\n",
       "      <td>12900.0</td>\n",
       "      <td>45305.0</td>\n",
       "    </tr>\n",
       "    <tr>\n",
       "      <th>WILCAB</th>\n",
       "      <td>9.0</td>\n",
       "      <td>11022.222222</td>\n",
       "      <td>6816.321915</td>\n",
       "      <td>2100.0</td>\n",
       "      <td>6360.0</td>\n",
       "      <td>10380.0</td>\n",
       "      <td>13560.0</td>\n",
       "      <td>24060.0</td>\n",
       "    </tr>\n",
       "    <tr>\n",
       "      <th>ZILKER</th>\n",
       "      <td>909.0</td>\n",
       "      <td>9760.959296</td>\n",
       "      <td>5698.256112</td>\n",
       "      <td>1000.0</td>\n",
       "      <td>4000.0</td>\n",
       "      <td>8750.0</td>\n",
       "      <td>15000.0</td>\n",
       "      <td>75000.0</td>\n",
       "    </tr>\n",
       "  </tbody>\n",
       "</table>\n",
       "</div>"
      ],
      "text/plain": [
       "             load_weight                                               \\\n",
       "                   count          mean          std      min      25%   \n",
       "dropoff_site                                                            \n",
       "CLARKSON             1.0  18640.000000          NaN  18640.0  18640.0   \n",
       "ELMONT               5.0  15303.400000  9887.499573   5480.0  11720.0   \n",
       "KRAMER               3.0  11660.000000  7813.245164   3980.0   7690.0   \n",
       "MRF              89603.0   5305.020334  3675.176552      0.0   2680.0   \n",
       "PARK BEND          386.0   7517.642487  3866.319134   3750.0   5500.0   \n",
       "TDS - MRF        54018.0  10118.207764  4400.584695  -4480.0   6700.0   \n",
       "WILCAB               9.0  11022.222222  6816.321915   2100.0   6360.0   \n",
       "ZILKER             909.0   9760.959296  5698.256112   1000.0   4000.0   \n",
       "\n",
       "                                         \n",
       "                  50%      75%      max  \n",
       "dropoff_site                             \n",
       "CLARKSON      18640.0  18640.0  18640.0  \n",
       "ELMONT        12560.0  14900.0  31857.0  \n",
       "KRAMER        11400.0  15500.0  19600.0  \n",
       "MRF            4260.0   6940.0  27320.0  \n",
       "PARK BEND      5500.0   8500.0  20400.0  \n",
       "TDS - MRF     10960.0  12900.0  45305.0  \n",
       "WILCAB        10380.0  13560.0  24060.0  \n",
       "ZILKER         8750.0  15000.0  75000.0  "
      ]
     },
     "execution_count": 5,
     "metadata": {},
     "output_type": "execute_result"
    }
   ],
   "source": [
    "df.groupby(['dropoff_site']).describe()"
   ]
  },
  {
   "cell_type": "markdown",
   "metadata": {},
   "source": [
    "Berdasarkan data di atas, untuk data \"*load weight*\" terdapat missing values (NaN), nilai 0 dan negatif. Pada kenyatannya, \"*load weight*\" sampah dari setiap *dropoff site* ini seharusnya tidak memiliki nilai 0 atau bahkan lebih kecil dari nol."
   ]
  },
  {
   "cell_type": "code",
   "execution_count": 6,
   "metadata": {},
   "outputs": [
    {
     "data": {
      "text/plain": [
       "5222"
      ]
     },
     "execution_count": 6,
     "metadata": {},
     "output_type": "execute_result"
    }
   ],
   "source": [
    "df[df.load_weight.isnull() == True].load_time.count() + df[df['load_weight'] <= 0]['load_weight'].count()"
   ]
  },
  {
   "cell_type": "markdown",
   "metadata": {},
   "source": [
    "Setelah dijumlahkan, NaN, 0, dan minus values di data ada sebanyak 5222 data atau sekitar 3.5 persen dari jumalah data awal / *loaded data*. Oleh karenanya, untuk memudahkan dalam eksplorasi analisis lanjutan, kita akan mengimputasi data tersebut dengan mengganti nilainya menjadi median."
   ]
  },
  {
   "cell_type": "code",
   "execution_count": null,
   "metadata": {},
   "outputs": [],
   "source": [
    "# Langkah 1, Mengubah nilai <= 0 dengan nilai NaN, agar lebih mudah di replace\n",
    "\n",
    "df['load_weight'][df['load_weight'] <= 0] = np.nan"
   ]
  },
  {
   "cell_type": "code",
   "execution_count": null,
   "metadata": {},
   "outputs": [],
   "source": [
    "# Langkah 2, Seluruh nilai NaN diganti dengan median load_weight dari setiap site\n",
    "\n",
    "def medianku(i):\n",
    "    return df[df['dropoff_site'] == i]['load_weight'].median()\n",
    "\n",
    "for i in df.dropoff_site.unique() :\n",
    "    df['load_weight'][df['dropoff_site'] == i] = df['load_weight'][df['dropoff_site'] == i].fillna(medianku(i))"
   ]
  },
  {
   "cell_type": "code",
   "execution_count": 9,
   "metadata": {},
   "outputs": [
    {
     "name": "stdout",
     "output_type": "stream",
     "text": [
      "<class 'pandas.core.frame.DataFrame'>\n",
      "RangeIndex: 150000 entries, 0 to 149999\n",
      "Data columns (total 4 columns):\n",
      " #   Column        Non-Null Count   Dtype  \n",
      "---  ------        --------------   -----  \n",
      " 0   load_time     150000 non-null  object \n",
      " 1   load_type     150000 non-null  object \n",
      " 2   load_weight   150000 non-null  float64\n",
      " 3   dropoff_site  150000 non-null  object \n",
      "dtypes: float64(1), object(3)\n",
      "memory usage: 4.6+ MB\n"
     ]
    }
   ],
   "source": [
    "df.info() # checking null values"
   ]
  },
  {
   "cell_type": "markdown",
   "metadata": {},
   "source": [
    "### 2. Eksplorasi Data Sederhana.\n",
    "\n",
    "  - Melihat rentang waktu pengambilan data\n",
    "  - Ada apa saja tipe load sampah di kota Austin berdasarkan data\n",
    "  - Mengetahui tempat pembuangan sampah ada dimana saja"
   ]
  },
  {
   "cell_type": "markdown",
   "metadata": {},
   "source": [
    "*Rentang Waktu Pengambilan Data*"
   ]
  },
  {
   "cell_type": "code",
   "execution_count": 10,
   "metadata": {},
   "outputs": [
    {
     "name": "stdout",
     "output_type": "stream",
     "text": [
      "Rentang waktu pengambilan data : 7836 days 18:28:05\n"
     ]
    }
   ],
   "source": [
    "# Mengubah type object ke type datetime agar bisa dihitung range date nya\n",
    "df['load_time'] =  pd.to_datetime(df['load_time'], infer_datetime_format=True)\n",
    "\n",
    "# Menghitung range of date\n",
    "range_date = np.max(df.load_time) - np.min(df.load_time) \n",
    "print(f'Rentang waktu pengambilan data : {range_date}')"
   ]
  },
  {
   "cell_type": "markdown",
   "metadata": {},
   "source": [
    "*Tipe Load Sampah*"
   ]
  },
  {
   "cell_type": "code",
   "execution_count": 11,
   "metadata": {},
   "outputs": [
    {
     "data": {
      "text/html": [
       "<div>\n",
       "<style scoped>\n",
       "    .dataframe tbody tr th:only-of-type {\n",
       "        vertical-align: middle;\n",
       "    }\n",
       "\n",
       "    .dataframe tbody tr th {\n",
       "        vertical-align: top;\n",
       "    }\n",
       "\n",
       "    .dataframe thead th {\n",
       "        text-align: right;\n",
       "    }\n",
       "</style>\n",
       "<table border=\"1\" class=\"dataframe\">\n",
       "  <thead>\n",
       "    <tr style=\"text-align: right;\">\n",
       "      <th></th>\n",
       "      <th>Tipe Load Sampah</th>\n",
       "    </tr>\n",
       "  </thead>\n",
       "  <tbody>\n",
       "    <tr>\n",
       "      <th>0</th>\n",
       "      <td>RECYCLING - SINGLE STREAM</td>\n",
       "    </tr>\n",
       "    <tr>\n",
       "      <th>1</th>\n",
       "      <td>RECYCLING - PAPER</td>\n",
       "    </tr>\n",
       "    <tr>\n",
       "      <th>2</th>\n",
       "      <td>RECYCLING - COMINGLE</td>\n",
       "    </tr>\n",
       "    <tr>\n",
       "      <th>3</th>\n",
       "      <td>SWEEPING</td>\n",
       "    </tr>\n",
       "    <tr>\n",
       "      <th>4</th>\n",
       "      <td>BRUSH</td>\n",
       "    </tr>\n",
       "    <tr>\n",
       "      <th>5</th>\n",
       "      <td>TIRES</td>\n",
       "    </tr>\n",
       "    <tr>\n",
       "      <th>6</th>\n",
       "      <td>BULK</td>\n",
       "    </tr>\n",
       "    <tr>\n",
       "      <th>7</th>\n",
       "      <td>RECYCLED METAL</td>\n",
       "    </tr>\n",
       "    <tr>\n",
       "      <th>8</th>\n",
       "      <td>YARD TRIMMING</td>\n",
       "    </tr>\n",
       "    <tr>\n",
       "      <th>9</th>\n",
       "      <td>MIXED LITTER</td>\n",
       "    </tr>\n",
       "    <tr>\n",
       "      <th>10</th>\n",
       "      <td>GARBAGE COLLECTIONS</td>\n",
       "    </tr>\n",
       "    <tr>\n",
       "      <th>11</th>\n",
       "      <td>ORGANICS</td>\n",
       "    </tr>\n",
       "    <tr>\n",
       "      <th>12</th>\n",
       "      <td>RECYCLING - PLASTIC BAGS</td>\n",
       "    </tr>\n",
       "    <tr>\n",
       "      <th>13</th>\n",
       "      <td>MULCH</td>\n",
       "    </tr>\n",
       "    <tr>\n",
       "      <th>14</th>\n",
       "      <td>LITTER</td>\n",
       "    </tr>\n",
       "    <tr>\n",
       "      <th>15</th>\n",
       "      <td>YARD TRIMMING - X-MAS TREES</td>\n",
       "    </tr>\n",
       "    <tr>\n",
       "      <th>16</th>\n",
       "      <td>CONTAMINATED RECYCLING</td>\n",
       "    </tr>\n",
       "    <tr>\n",
       "      <th>17</th>\n",
       "      <td>DEAD ANIMAL</td>\n",
       "    </tr>\n",
       "  </tbody>\n",
       "</table>\n",
       "</div>"
      ],
      "text/plain": [
       "               Tipe Load Sampah\n",
       "0     RECYCLING - SINGLE STREAM\n",
       "1             RECYCLING - PAPER\n",
       "2          RECYCLING - COMINGLE\n",
       "3                      SWEEPING\n",
       "4                         BRUSH\n",
       "5                         TIRES\n",
       "6                          BULK\n",
       "7                RECYCLED METAL\n",
       "8                 YARD TRIMMING\n",
       "9                  MIXED LITTER\n",
       "10          GARBAGE COLLECTIONS\n",
       "11                     ORGANICS\n",
       "12     RECYCLING - PLASTIC BAGS\n",
       "13                        MULCH\n",
       "14                       LITTER\n",
       "15  YARD TRIMMING - X-MAS TREES\n",
       "16       CONTAMINATED RECYCLING\n",
       "17                  DEAD ANIMAL"
      ]
     },
     "execution_count": 11,
     "metadata": {},
     "output_type": "execute_result"
    }
   ],
   "source": [
    "ltu = df.load_type.unique()\n",
    "pd.DataFrame({'Tipe Load Sampah' : ltu})"
   ]
  },
  {
   "cell_type": "markdown",
   "metadata": {},
   "source": [
    "*Dimana Saja Tempat / Site Pembuangan Sampah Kota*"
   ]
  },
  {
   "cell_type": "code",
   "execution_count": 12,
   "metadata": {},
   "outputs": [
    {
     "data": {
      "text/html": [
       "<div>\n",
       "<style scoped>\n",
       "    .dataframe tbody tr th:only-of-type {\n",
       "        vertical-align: middle;\n",
       "    }\n",
       "\n",
       "    .dataframe tbody tr th {\n",
       "        vertical-align: top;\n",
       "    }\n",
       "\n",
       "    .dataframe thead th {\n",
       "        text-align: right;\n",
       "    }\n",
       "</style>\n",
       "<table border=\"1\" class=\"dataframe\">\n",
       "  <thead>\n",
       "    <tr style=\"text-align: right;\">\n",
       "      <th></th>\n",
       "      <th>Site Pembuangan Sampah</th>\n",
       "    </tr>\n",
       "  </thead>\n",
       "  <tbody>\n",
       "    <tr>\n",
       "      <th>0</th>\n",
       "      <td>MRF</td>\n",
       "    </tr>\n",
       "    <tr>\n",
       "      <th>1</th>\n",
       "      <td>ELMONT</td>\n",
       "    </tr>\n",
       "    <tr>\n",
       "      <th>2</th>\n",
       "      <td>KRAMER</td>\n",
       "    </tr>\n",
       "    <tr>\n",
       "      <th>3</th>\n",
       "      <td>WILCAB</td>\n",
       "    </tr>\n",
       "    <tr>\n",
       "      <th>4</th>\n",
       "      <td>ZILKER</td>\n",
       "    </tr>\n",
       "    <tr>\n",
       "      <th>5</th>\n",
       "      <td>CLARKSON</td>\n",
       "    </tr>\n",
       "    <tr>\n",
       "      <th>6</th>\n",
       "      <td>PARK BEND</td>\n",
       "    </tr>\n",
       "    <tr>\n",
       "      <th>7</th>\n",
       "      <td>TDS - MRF</td>\n",
       "    </tr>\n",
       "  </tbody>\n",
       "</table>\n",
       "</div>"
      ],
      "text/plain": [
       "  Site Pembuangan Sampah\n",
       "0                    MRF\n",
       "1                 ELMONT\n",
       "2                 KRAMER\n",
       "3                 WILCAB\n",
       "4                 ZILKER\n",
       "5               CLARKSON\n",
       "6              PARK BEND\n",
       "7              TDS - MRF"
      ]
     },
     "execution_count": 12,
     "metadata": {},
     "output_type": "execute_result"
    }
   ],
   "source": [
    "dsu = df.dropoff_site.unique()\n",
    "pd.DataFrame({'Site Pembuangan Sampah' : dsu})"
   ]
  },
  {
   "cell_type": "markdown",
   "metadata": {},
   "source": [
    "### 3. Insight Untuk Pemerintah Kota Austin, Berdasarkan *Central Tendency Data* Setiap *Site*"
   ]
  },
  {
   "cell_type": "code",
   "execution_count": 13,
   "metadata": {},
   "outputs": [
    {
     "data": {
      "text/html": [
       "<div>\n",
       "<style scoped>\n",
       "    .dataframe tbody tr th:only-of-type {\n",
       "        vertical-align: middle;\n",
       "    }\n",
       "\n",
       "    .dataframe tbody tr th {\n",
       "        vertical-align: top;\n",
       "    }\n",
       "\n",
       "    .dataframe thead th {\n",
       "        text-align: right;\n",
       "    }\n",
       "</style>\n",
       "<table border=\"1\" class=\"dataframe\">\n",
       "  <thead>\n",
       "    <tr style=\"text-align: right;\">\n",
       "      <th></th>\n",
       "      <th>Mean</th>\n",
       "      <th>Median</th>\n",
       "      <th>Modus</th>\n",
       "      <th>Counts</th>\n",
       "    </tr>\n",
       "    <tr>\n",
       "      <th>dropoff_site</th>\n",
       "      <th></th>\n",
       "      <th></th>\n",
       "      <th></th>\n",
       "      <th></th>\n",
       "    </tr>\n",
       "  </thead>\n",
       "  <tbody>\n",
       "    <tr>\n",
       "      <th>CLARKSON</th>\n",
       "      <td>18640.000000</td>\n",
       "      <td>18640.0</td>\n",
       "      <td>([18640.0], [386])</td>\n",
       "      <td>386</td>\n",
       "    </tr>\n",
       "    <tr>\n",
       "      <th>ELMONT</th>\n",
       "      <td>12569.382353</td>\n",
       "      <td>12560.0</td>\n",
       "      <td>([12560.0], [1458])</td>\n",
       "      <td>1462</td>\n",
       "    </tr>\n",
       "    <tr>\n",
       "      <th>KRAMER</th>\n",
       "      <td>11402.468354</td>\n",
       "      <td>11400.0</td>\n",
       "      <td>([11400.0], [314])</td>\n",
       "      <td>316</td>\n",
       "    </tr>\n",
       "    <tr>\n",
       "      <th>MRF</th>\n",
       "      <td>5311.750929</td>\n",
       "      <td>4260.0</td>\n",
       "      <td>([4260.0], [444])</td>\n",
       "      <td>89625</td>\n",
       "    </tr>\n",
       "    <tr>\n",
       "      <th>PARK BEND</th>\n",
       "      <td>7466.691919</td>\n",
       "      <td>5500.0</td>\n",
       "      <td>([5500.0], [284])</td>\n",
       "      <td>396</td>\n",
       "    </tr>\n",
       "    <tr>\n",
       "      <th>TDS - MRF</th>\n",
       "      <td>10120.412070</td>\n",
       "      <td>10960.0</td>\n",
       "      <td>([12300.0], [169])</td>\n",
       "      <td>54037</td>\n",
       "    </tr>\n",
       "    <tr>\n",
       "      <th>WILCAB</th>\n",
       "      <td>10382.098765</td>\n",
       "      <td>10380.0</td>\n",
       "      <td>([10380.0], [2746])</td>\n",
       "      <td>2754</td>\n",
       "    </tr>\n",
       "    <tr>\n",
       "      <th>ZILKER</th>\n",
       "      <td>9647.423828</td>\n",
       "      <td>8750.0</td>\n",
       "      <td>([15000.0], [290])</td>\n",
       "      <td>1024</td>\n",
       "    </tr>\n",
       "  </tbody>\n",
       "</table>\n",
       "</div>"
      ],
      "text/plain": [
       "                      Mean   Median                Modus  Counts\n",
       "dropoff_site                                                    \n",
       "CLARKSON      18640.000000  18640.0   ([18640.0], [386])     386\n",
       "ELMONT        12569.382353  12560.0  ([12560.0], [1458])    1462\n",
       "KRAMER        11402.468354  11400.0   ([11400.0], [314])     316\n",
       "MRF            5311.750929   4260.0    ([4260.0], [444])   89625\n",
       "PARK BEND      7466.691919   5500.0    ([5500.0], [284])     396\n",
       "TDS - MRF     10120.412070  10960.0   ([12300.0], [169])   54037\n",
       "WILCAB        10382.098765  10380.0  ([10380.0], [2746])    2754\n",
       "ZILKER         9647.423828   8750.0   ([15000.0], [290])    1024"
      ]
     },
     "metadata": {},
     "output_type": "display_data"
    }
   ],
   "source": [
    "# using agg() function on dropoff_site column\n",
    "df_ctd = df.groupby(['dropoff_site']).agg(Mean=('load_weight', np.mean),\n",
    "                                        Median=('load_weight', np.median), \n",
    "                                        Modus=('load_weight', stats.mode), \n",
    "                                        Counts=('load_weight', np.count_nonzero))\n",
    "            \n",
    "# Displaying result\n",
    "display(df_ctd)"
   ]
  },
  {
   "cell_type": "markdown",
   "metadata": {},
   "source": [
    "Untuk data dengan nilai `counts` yang memiliki nilai hampir sama dengan `mode` maka data tersebut telah mengalami imputasi, sehingga data yang potensial untuk dijadikan insight ke **Pemerintah Kota Austin** hanya ada di site MRF, TDS - MRF, ZILKER"
   ]
  },
  {
   "cell_type": "markdown",
   "metadata": {},
   "source": [
    ">*Insight* : \n",
    ">- Site MRF merupakan site dengan pengambilan sampel terlama (`yang selanjutnya akan saya jadikan alasan kenapa memilih site ini di nomor 4`), namun rata-rata beban muatan / *load_weight* site ini lebih kecil dari yang lain.\n",
    ">- Rata-rata beban muatan yang kecil ini, bisa mengindikasikan waste management di site ini sangat baik atau *recycling system*-nya mempunyai siklus yang bagus, sehingga load weightnya kecil untuk setiap dropoff sampah.\n",
    ">- Site MRF, TDS-MRF, dan ZILKER memiliki data yang cukup variatif, karena data yang sama (modus) sangat kecil dibandingkan dengan jumlah datanya (counts), sehingga data dari tiga site ini cukup representatif untuk dijadikan sebagai acuan persebaran data beban muatan / *load weight* dropoff site yang ada di kota Austin.\n",
    ">- Dari ketiga site yang memiliki data potensial itu (MRF, TDS-MRF, dan ZILKER), beban muatan dengan 15000 load weight di site ZILKER memiliki frekuensi yang paling banyak dan tertingg jika dibandingkan dengan MRF yang hanya 4260 dan TDS - MRF 12300 load weight."
   ]
  },
  {
   "cell_type": "markdown",
   "metadata": {},
   "source": [
    "### 4. Pilih Site Paling Menarik (Why?)"
   ]
  },
  {
   "cell_type": "code",
   "execution_count": 14,
   "metadata": {},
   "outputs": [
    {
     "data": {
      "text/plain": [
       "dropoff_site\n",
       "CLARKSON    1254 days 06:00:00\n",
       "ELMONT      5838 days 04:03:00\n",
       "KRAMER      1843 days 06:13:00\n",
       "MRF         7836 days 18:28:05\n",
       "PARK BEND   5302 days 16:26:00\n",
       "TDS - MRF   3936 days 04:27:51\n",
       "WILCAB      5953 days 22:55:00\n",
       "ZILKER      5539 days 06:07:01\n",
       "Name: Date_Range, dtype: timedelta64[ns]"
      ]
     },
     "metadata": {},
     "output_type": "display_data"
    }
   ],
   "source": [
    "# using agg() function on load_time column\n",
    "df_lt = df.groupby(['dropoff_site']).agg(Minimum_Date=('load_time', np.min), \n",
    "                                       Maximum_Date=('load_time', np.max))\n",
    "\n",
    "# Making a Date_Range column by substracting maximum date with minimum date\n",
    "df_lt['Date_Range'] = df_lt['Maximum_Date'] - df_lt['Minimum_Date'] \n",
    "\n",
    "# Displaying result only for date range column\n",
    "display(df_lt.Date_Range)"
   ]
  },
  {
   "cell_type": "markdown",
   "metadata": {},
   "source": [
    "Untuk case ini akan dipilih site **MRF**, karena memiliki rentang waktu pengambilan data terlama dengan jumlah 7836 hari."
   ]
  },
  {
   "cell_type": "markdown",
   "metadata": {},
   "source": [
    "### 5. Outlier Checking & Central Tendency Comparison\n",
    "\n",
    "Gunakan site yang dipilih untuk dicek apakah data `load_weight` ada outlier atau tidak. *Gunakan teknik yang tepat sesuai dengan distribusi dari datanya!*. Jika iya, berapa persen jumlah outliernya? dan bandingkan central tendency data yang telah dikeluarkan outliernya dengan yang belum (hasil dari perhitungan nomor 3)."
   ]
  },
  {
   "cell_type": "markdown",
   "metadata": {},
   "source": [
    ">Langkah-langkah mengeluarkan outlier\n",
    ">- *fastcheck* apakah di data ada outlier // in a simple way - by visual dengan boxplot\n",
    ">- Menghitung banyak data outiler dengan menggunakan z-score untuk data berdistribusi normal dan tukey's rule untuk data skew\n",
    ">- Menghilangkan data outlier berdasarkan perhitungan z-score atau tukey's rule"
   ]
  },
  {
   "cell_type": "code",
   "execution_count": 15,
   "metadata": {},
   "outputs": [
    {
     "name": "stderr",
     "output_type": "stream",
     "text": [
      "c:\\Users\\lenovo\\AppData\\Local\\Programs\\Python\\Python310\\lib\\site-packages\\seaborn\\_decorators.py:36: FutureWarning: Pass the following variable as a keyword arg: x. From version 0.12, the only valid positional argument will be `data`, and passing other arguments without an explicit keyword will result in an error or misinterpretation.\n",
      "  warnings.warn(\n",
      "c:\\Users\\lenovo\\AppData\\Local\\Programs\\Python\\Python310\\lib\\site-packages\\seaborn\\distributions.py:2619: FutureWarning: `distplot` is a deprecated function and will be removed in a future version. Please adapt your code to use either `displot` (a figure-level function with similar flexibility) or `histplot` (an axes-level function for histograms).\n",
      "  warnings.warn(msg, FutureWarning)\n"
     ]
    },
    {
     "data": {
      "text/plain": [
       "<AxesSubplot:xlabel='load_weight', ylabel='Density'>"
      ]
     },
     "execution_count": 15,
     "metadata": {},
     "output_type": "execute_result"
    },
    {
     "data": {
      "image/png": "[encoded data removed]",
      "text/plain": [
       "<Figure size 1152x576 with 1 Axes>"
      ]
     },
     "metadata": {
      "needs_background": "light"
     },
     "output_type": "display_data"
    },
    {
     "data": {
      "image/png": "[encoded data removed]",
      "text/plain": [
       "<Figure size 1152x576 with 1 Axes>"
      ]
     },
     "metadata": {
      "needs_background": "light"
     },
     "output_type": "display_data"
    }
   ],
   "source": [
    "# BoxPlot\n",
    "fig, ax = plt.subplots(figsize = (16,8))\n",
    "sns.boxplot(df[df['dropoff_site'] == 'MRF'].load_weight)\n",
    "\n",
    "\n",
    "# Distribution Plot\n",
    "fig, ax = plt.subplots(figsize = (16,8))\n",
    "sns.distplot(df[df['dropoff_site'] == 'MRF'].load_weight)"
   ]
  },
  {
   "cell_type": "markdown",
   "metadata": {},
   "source": [
    "Berdasarkan dua plot di atas, data load weight di site MRF terdapat outliers dan persabaran datanya right-skewd. Sehingga kita akan menggunakan *Tukey's Rule* untuk menghilangkan outlier datanya.\n",
    "\n",
    "***Tukey's Rule***\n",
    "\n",
    "*\"Another famous idea by Tukey is how to use his 5-number summary for detecting outlier. The gist is that data that deviates from the median above certain threshold will be flagged as outlier. This formula is only works if the distribution is not normal.\"*\n",
    "\n",
    "Fungsi Tukey outlier detection\n",
    "<center>\n",
    "\n",
    "${q_{3}+1.5*IQR}$\n",
    "\n",
    "${q_{1}-1.5*IQR}$"
   ]
  },
  {
   "cell_type": "code",
   "execution_count": 16,
   "metadata": {},
   "outputs": [],
   "source": [
    "# Membuat fungsi untuk Tukey's Rule\n",
    "def tukeys_method(df, variable):\n",
    "    \n",
    "    # Inputan fungsi : dataframe & nama kolom\n",
    "    q1 = df[variable].quantile(0.25)\n",
    "    q3 = df[variable].quantile(0.75)\n",
    "    iqr = q3-q1\n",
    "    batas = 1.5*iqr\n",
    "    batas_bb = q1-batas # batas bawah\n",
    "    batas_ba = q3+batas # batas bawah\n",
    "    ol = [] # empty list untuk mengisi nilai outlier x \n",
    "    for x in (df[variable]):\n",
    "        if x <= batas_bb or x >= batas_ba:\n",
    "            ol.append(x)\n",
    "    return ol"
   ]
  },
  {
   "cell_type": "code",
   "execution_count": 17,
   "metadata": {},
   "outputs": [],
   "source": [
    "\n",
    "def outliers(x):\n",
    "    return tukeys_method(df[df['dropoff_site'] == x], 'load_weight')\n",
    "\n",
    "# Fungsi untuk mengeluarkan outliers, dengan input site in dropoff_site\n",
    "df_copy = df.copy()\n",
    "def dropoutliers(x): \n",
    "    df_copy[df_copy['dropoff_site'] == x] = df_copy[df_copy['dropoff_site'] == x][(~df_copy[df_copy['dropoff_site'] == x]['load_weight'].isin(outliers(x)))]\n",
    "    \n",
    "dropoutliers('MRF')"
   ]
  },
  {
   "cell_type": "code",
   "execution_count": 18,
   "metadata": {},
   "outputs": [
    {
     "name": "stderr",
     "output_type": "stream",
     "text": [
      "c:\\Users\\lenovo\\AppData\\Local\\Programs\\Python\\Python310\\lib\\site-packages\\seaborn\\_decorators.py:36: FutureWarning: Pass the following variable as a keyword arg: x. From version 0.12, the only valid positional argument will be `data`, and passing other arguments without an explicit keyword will result in an error or misinterpretation.\n",
      "  warnings.warn(\n"
     ]
    },
    {
     "data": {
      "text/plain": [
       "<AxesSubplot:xlabel='load_weight'>"
      ]
     },
     "execution_count": 18,
     "metadata": {},
     "output_type": "execute_result"
    },
    {
     "data": {
      "image/png": "[encoded data removed]",
      "text/plain": [
       "<Figure size 1152x576 with 1 Axes>"
      ]
     },
     "metadata": {
      "needs_background": "light"
     },
     "output_type": "display_data"
    }
   ],
   "source": [
    "# BoxPlot setelah dihilangkan outlier\n",
    "fig, ax = plt.subplots(figsize = (16,8))\n",
    "sns.boxplot(df_copy[df_copy['dropoff_site'] == 'MRF'].load_weight)"
   ]
  },
  {
   "cell_type": "markdown",
   "metadata": {},
   "source": [
    "***Jumlah outlier (in percentage) :***"
   ]
  },
  {
   "cell_type": "code",
   "execution_count": 19,
   "metadata": {},
   "outputs": [
    {
     "name": "stdout",
     "output_type": "stream",
     "text": [
      "Jumlah outlier data load_weight site MRF : 4.00 persen\n"
     ]
    }
   ],
   "source": [
    "diff = '{:0.2f}'.format(( len(outliers('MRF')) / df[df['dropoff_site'] == 'MRF'].load_weight.size )*100)\n",
    "print(f'Jumlah outlier data load_weight site MRF : {diff} persen')"
   ]
  },
  {
   "cell_type": "markdown",
   "metadata": {},
   "source": [
    "***Perbandingan Central Tendency Sebelum dan Sesudah Outlier Dihilangkan :***"
   ]
  },
  {
   "cell_type": "code",
   "execution_count": 20,
   "metadata": {},
   "outputs": [
    {
     "data": {
      "text/html": [
       "<div>\n",
       "<style scoped>\n",
       "    .dataframe tbody tr th:only-of-type {\n",
       "        vertical-align: middle;\n",
       "    }\n",
       "\n",
       "    .dataframe tbody tr th {\n",
       "        vertical-align: top;\n",
       "    }\n",
       "\n",
       "    .dataframe thead th {\n",
       "        text-align: right;\n",
       "    }\n",
       "</style>\n",
       "<table border=\"1\" class=\"dataframe\">\n",
       "  <thead>\n",
       "    <tr style=\"text-align: right;\">\n",
       "      <th></th>\n",
       "      <th>Mean</th>\n",
       "      <th>Median</th>\n",
       "      <th>Modus</th>\n",
       "    </tr>\n",
       "    <tr>\n",
       "      <th>dropoff_site</th>\n",
       "      <th></th>\n",
       "      <th></th>\n",
       "      <th></th>\n",
       "    </tr>\n",
       "  </thead>\n",
       "  <tbody>\n",
       "    <tr>\n",
       "      <th>MRF</th>\n",
       "      <td>5311.750929</td>\n",
       "      <td>4260.0</td>\n",
       "      <td>([4260.0], [444])</td>\n",
       "    </tr>\n",
       "  </tbody>\n",
       "</table>\n",
       "</div>"
      ],
      "text/plain": [
       "                     Mean  Median              Modus\n",
       "dropoff_site                                        \n",
       "MRF           5311.750929  4260.0  ([4260.0], [444])"
      ]
     },
     "execution_count": 20,
     "metadata": {},
     "output_type": "execute_result"
    }
   ],
   "source": [
    "# Central Tendency sebelum outlier dihilangkan // di perhitungan nomor 3\n",
    "df_ctd = df.groupby(['dropoff_site']).agg(Mean=('load_weight', np.mean),\n",
    "                                          Median=('load_weight', np.median),\n",
    "                                          Modus=('load_weight', stats.mode))\n",
    "                                        \n",
    "df_ctd[df_ctd.index == 'MRF']"
   ]
  },
  {
   "cell_type": "code",
   "execution_count": 21,
   "metadata": {},
   "outputs": [
    {
     "data": {
      "text/html": [
       "<div>\n",
       "<style scoped>\n",
       "    .dataframe tbody tr th:only-of-type {\n",
       "        vertical-align: middle;\n",
       "    }\n",
       "\n",
       "    .dataframe tbody tr th {\n",
       "        vertical-align: top;\n",
       "    }\n",
       "\n",
       "    .dataframe thead th {\n",
       "        text-align: right;\n",
       "    }\n",
       "</style>\n",
       "<table border=\"1\" class=\"dataframe\">\n",
       "  <thead>\n",
       "    <tr style=\"text-align: right;\">\n",
       "      <th></th>\n",
       "      <th>Mean</th>\n",
       "      <th>Median</th>\n",
       "      <th>Modus</th>\n",
       "    </tr>\n",
       "    <tr>\n",
       "      <th>dropoff_site</th>\n",
       "      <th></th>\n",
       "      <th></th>\n",
       "      <th></th>\n",
       "    </tr>\n",
       "  </thead>\n",
       "  <tbody>\n",
       "    <tr>\n",
       "      <th>MRF</th>\n",
       "      <td>4937.957406</td>\n",
       "      <td>4140.0</td>\n",
       "      <td>([4260.0], [444])</td>\n",
       "    </tr>\n",
       "  </tbody>\n",
       "</table>\n",
       "</div>"
      ],
      "text/plain": [
       "                     Mean  Median              Modus\n",
       "dropoff_site                                        \n",
       "MRF           4937.957406  4140.0  ([4260.0], [444])"
      ]
     },
     "execution_count": 21,
     "metadata": {},
     "output_type": "execute_result"
    }
   ],
   "source": [
    "# Central Tendency setelah outlier dihilangkan\n",
    "df_ctd1 = df_copy.groupby(['dropoff_site']).agg(Mean=('load_weight', np.mean), \n",
    "                                                Median=('load_weight', np.median), \n",
    "                                                Modus=('load_weight', stats.mode))\n",
    "\n",
    "df_ctd1[df_ctd1.index == 'MRF']"
   ]
  },
  {
   "cell_type": "markdown",
   "metadata": {},
   "source": [
    "**Perbandingan Central Tendency sebelum dan sesudah outiler dihilangkan :** <br>\n",
    "*Central tendency sebelum dihilangkan outlier `tidak sama` dengan Central tendency setelah dihilangkan outlier, mean dan median bergeser ke kiri.*"
   ]
  },
  {
   "cell_type": "markdown",
   "metadata": {},
   "source": [
    ">*Insight* :\n",
    ">- Dari hasil observasi, ternyata `banyak` data load weight yang `terlampau jauh dari nilai wajar minimum atau maksimum load weight` tiap dropoff, banyak data yang dimaksud berjumlah 3581 data, sedangkan banyak data awal berjumlah 89625. Sehingga, bisa dikatakan bahwa jumlah data tidak wajar ini hanya berkisar **4 persen** dari jumlah data awal di site MRF."
   ]
  },
  {
   "cell_type": "markdown",
   "metadata": {},
   "source": [
    "### 6. Measure of Variance\n",
    "\n",
    "Gunakan site yang telah kamu pilih untuk dihitung range, variance, dan standar deviasi untuk data `load_weight`. Berikan insight dari hasil perhitunganmu kepada pemerintah kota (`Pastikan data yang digunakan adalah data yang sudah dibersihkan dari outlier`)."
   ]
  },
  {
   "cell_type": "markdown",
   "metadata": {},
   "source": [
    "#### *Range, Variance & Standard Deviation* "
   ]
  },
  {
   "cell_type": "code",
   "execution_count": 22,
   "metadata": {},
   "outputs": [
    {
     "name": "stdout",
     "output_type": "stream",
     "text": [
      "Minimum Load Weight : 20.0\n",
      "Maximum Load Weight : 13280.0\n",
      "Range Load Weight : 13260.0\n",
      "Variance Load Weight : 10479381.59\n",
      "Standar deviasi Load Weight : 3237.19\n"
     ]
    }
   ],
   "source": [
    "mrf_lw = df_copy[df_copy['dropoff_site'] == 'MRF']['load_weight']\n",
    "print('Minimum Load Weight : ' + str(mrf_lw.min()))\n",
    "print('Maximum Load Weight : ' + str(mrf_lw.max()))\n",
    "print('Range Load Weight : ' + str(mrf_lw.max() - mrf_lw.min()))\n",
    "print('Variance Load Weight : ' + str('{:0.2f}'.format(mrf_lw.var())))\n",
    "print('Standar deviasi Load Weight : ' + str('{:0.2f}'.format(mrf_lw.std())))"
   ]
  },
  {
   "cell_type": "markdown",
   "metadata": {},
   "source": [
    "*Insight* :\n",
    "- Range *Load Weight* sampah untuk site MRF ini adalah 13260 dengan minimum *Load Weight* 20 dan maximum *Load Weight* 13280.\n",
    "- Jika rata-rata *Load Weight* sampah untuk setiap dropoff di site MRF ini adalah 4937.95, maka *Load Weight* di waktu dropoff lainnya akan berkisar ±3237.19 dari *Load Weight* rata-rata."
   ]
  },
  {
   "cell_type": "markdown",
   "metadata": {},
   "source": [
    "### 7. Confidence Interval \n",
    "\n",
    "Pemerintah kota berencana menambah site baru. Berikan analisa dan saran terkait berapa kapasitas penampungan di site baru berdasarkan perhitungan `confidence interval`. Data apa yang kamu gunakan, apakah hanya dari satu site saja atau dari keseluruhan site?"
   ]
  },
  {
   "cell_type": "markdown",
   "metadata": {},
   "source": [
    ">Data yang digunakan : rata-rata *beban muatan* / *load weight* dari site MRF, TDS - MRF dan ZILKER (site-site yang memiliki data potensial seperti telah dijelaskan di nomor 3) tanpa outlier. <br>\n",
    "Confidence Level : 95%"
   ]
  },
  {
   "cell_type": "code",
   "execution_count": 23,
   "metadata": {},
   "outputs": [],
   "source": [
    "# Akan digunakan for loop untuk menghilangkan outlier di setiap site pilihan kecuali site MRF. karena telah diproses di nomor 5\n",
    "cols = ['ZILKER', 'TDS - MRF']\n",
    "for i in cols :\n",
    "    dropoutliers(i)"
   ]
  },
  {
   "cell_type": "code",
   "execution_count": 24,
   "metadata": {},
   "outputs": [
    {
     "name": "stdout",
     "output_type": "stream",
     "text": [
      "Confidence Interval dari site MRF : (-1406.8131054262976, 11282.727916453214)\n",
      "Confidence Interval dari site TDS - MRF : (1652.4101333339204, 18435.867830497293)\n",
      "Confidence Interval dari site ZILKER : (-170.54345326304974, 19337.624587182894)\n"
     ]
    }
   ],
   "source": [
    "data = ['MRF', 'TDS - MRF', 'ZILKER']\n",
    "for i in data:\n",
    "    ci = stats.norm.interval(0.95, df_copy[df_copy['dropoff_site'] == i]['load_weight'].mean(), \n",
    "                             df_copy[df_copy['dropoff_site'] == i]['load_weight'].std())\n",
    "    print(f'Confidence Interval dari site {i} : {ci}')\n",
    "# parameter ci (0.95, a, b) : \n",
    "# 0.95 / Confidence Level, \n",
    "# a / Rata-rata dari load-weight per site, \n",
    "# b / st. deviasi dari load-weight per site."
   ]
  },
  {
   "cell_type": "markdown",
   "metadata": {},
   "source": [
    "Sebelum kita menarik konklusi, perlu diketahui bahwa confidence interval di atas diperoleh dari data *\"load weight\"*. Namun karena **jumlah *load weight*** **sangat berkorelasi** dengan **kapasitas penampungan suatu site**, artinya setiap kali dropoff dengan **jumlah *load weight* tertentu**, maka kapasitas penampungan suatu site juga *harus memiliki kapasitas sebesar *load weight* itu atau lebih*. \n",
    "\n",
    "Oleh karena itu, berdasarkan batas atas terbesar dari 3 confidence interval tersebut. Kapasitas tampung ideal untuk site baru adalah $(19337.62)$ load weight, agar kedepannya dapat menanggulangi lonjakan dropoff load weight yang paling tinggi dalam sehari (`maximum load weight in a day`)."
   ]
  },
  {
   "cell_type": "markdown",
   "metadata": {},
   "source": [
    ">*Insight* (Rekomendasi untuk Pemerintah Kota Austin terkait pembangunan site baru): <br>\n",
    ">\n",
    "> `Kapasitas penampungan` sampah untuk site baru yang akan dibangun nanti, *idealnya* mampu menampung `19337.62 load weight` sampah. ukuran kapasitas site baru ini harusnya bisa menampung `average daily load weight` sampah yang ada di Kota Austin kedepannya. "
   ]
  },
  {
   "cell_type": "markdown",
   "metadata": {},
   "source": [
    "### 8. Hypothesis Testing\n",
    "\n",
    "Buatlah `analisa uji hipotesis` dari data tersebut dari data yang tersedia (kasusnya dibebaskan). Definisikan H0 dan H1 nya serta lakukan perhitungan menggunakan t-test yang sesuai dengan hipotesis kamu. Tulis kesimpulan dari hasil perhitunganmu kepada pemerintah kota (**Ingat!** pemerintah kota tidak mengerti p-value, hipotesis diterima/tidak diterima)."
   ]
  },
  {
   "cell_type": "markdown",
   "metadata": {},
   "source": [
    "#### **Single Sample Hypothesis Testing**"
   ]
  },
  {
   "cell_type": "markdown",
   "metadata": {},
   "source": [
    "Misalkan selama 20 tahun terakhir, di kota Austin setiap hari dropoff sampah rata-rata 8300 load weight dan selama setahun terakhir, sampah di kota itu mencapai rata-rata 8394 load weight per hari. Apakah ini berarti load weight sampah di seluruh site di kota itu meningkat secara signifikan?"
   ]
  },
  {
   "cell_type": "code",
   "execution_count": 25,
   "metadata": {},
   "outputs": [
    {
     "name": "stdout",
     "output_type": "stream",
     "text": [
      "Average New load weight a Day for the last a year: 8394.0\n"
     ]
    }
   ],
   "source": [
    "# kali ini kita akan memakai dataframe df agar datanya lebih komprehensif, akan diasumsikan bahwa tidak ada data outlier\n",
    "\n",
    "daily_loadweight = df[['load_time','load_weight']].groupby('load_time').sum()\n",
    "print('Average New load weight a Day for the last a year: {}'.format(np.round(daily_loadweight['load_weight'].mean())))"
   ]
  },
  {
   "cell_type": "markdown",
   "metadata": {},
   "source": [
    "Untuk memeriksa apakah daily load weight di Kota Austin meningkat secara signifikan atau tidak, akan dilakukan *single sample one sided* dengan significance level 0,05. Metode ini digunakan karena variabel yang diuji hanya satu dan komparasinya hanya di sampel (data satu tahun terakhir) dan populasi (yang diasumsikan data 20 tahun terakhir).\n",
    "\n",
    "Jadi hipotesis untuk kasus ini :\n",
    "\n",
    "**H0: μ <= 8300**\n",
    "\n",
    "**H1: μ > 8300**"
   ]
  },
  {
   "cell_type": "code",
   "execution_count": 26,
   "metadata": {},
   "outputs": [
    {
     "data": {
      "text/html": [
       "<div>\n",
       "<style scoped>\n",
       "    .dataframe tbody tr th:only-of-type {\n",
       "        vertical-align: middle;\n",
       "    }\n",
       "\n",
       "    .dataframe tbody tr th {\n",
       "        vertical-align: top;\n",
       "    }\n",
       "\n",
       "    .dataframe thead th {\n",
       "        text-align: right;\n",
       "    }\n",
       "</style>\n",
       "<table border=\"1\" class=\"dataframe\">\n",
       "  <thead>\n",
       "    <tr style=\"text-align: right;\">\n",
       "      <th></th>\n",
       "      <th>load_weight</th>\n",
       "    </tr>\n",
       "    <tr>\n",
       "      <th>load_time</th>\n",
       "      <th></th>\n",
       "    </tr>\n",
       "  </thead>\n",
       "  <tbody>\n",
       "    <tr>\n",
       "      <th>2000-01-26 12:39:00+00:00</th>\n",
       "      <td>2940.0</td>\n",
       "    </tr>\n",
       "    <tr>\n",
       "      <th>2004-08-30 01:26:00+00:00</th>\n",
       "      <td>8580.0</td>\n",
       "    </tr>\n",
       "    <tr>\n",
       "      <th>2004-08-30 01:40:00+00:00</th>\n",
       "      <td>4580.0</td>\n",
       "    </tr>\n",
       "    <tr>\n",
       "      <th>2004-10-01 01:00:00+00:00</th>\n",
       "      <td>9120.0</td>\n",
       "    </tr>\n",
       "    <tr>\n",
       "      <th>2004-10-01 01:03:00+00:00</th>\n",
       "      <td>4340.0</td>\n",
       "    </tr>\n",
       "    <tr>\n",
       "      <th>...</th>\n",
       "      <td>...</td>\n",
       "    </tr>\n",
       "    <tr>\n",
       "      <th>2021-07-11 07:04:46+00:00</th>\n",
       "      <td>16940.0</td>\n",
       "    </tr>\n",
       "    <tr>\n",
       "      <th>2021-07-11 07:05:24+00:00</th>\n",
       "      <td>10960.0</td>\n",
       "    </tr>\n",
       "    <tr>\n",
       "      <th>2021-07-11 07:05:51+00:00</th>\n",
       "      <td>10960.0</td>\n",
       "    </tr>\n",
       "    <tr>\n",
       "      <th>2021-07-11 07:07:01+00:00</th>\n",
       "      <td>17500.0</td>\n",
       "    </tr>\n",
       "    <tr>\n",
       "      <th>2021-07-11 07:07:05+00:00</th>\n",
       "      <td>2120.0</td>\n",
       "    </tr>\n",
       "  </tbody>\n",
       "</table>\n",
       "<p>130272 rows × 1 columns</p>\n",
       "</div>"
      ],
      "text/plain": [
       "                           load_weight\n",
       "load_time                             \n",
       "2000-01-26 12:39:00+00:00       2940.0\n",
       "2004-08-30 01:26:00+00:00       8580.0\n",
       "2004-08-30 01:40:00+00:00       4580.0\n",
       "2004-10-01 01:00:00+00:00       9120.0\n",
       "2004-10-01 01:03:00+00:00       4340.0\n",
       "...                                ...\n",
       "2021-07-11 07:04:46+00:00      16940.0\n",
       "2021-07-11 07:05:24+00:00      10960.0\n",
       "2021-07-11 07:05:51+00:00      10960.0\n",
       "2021-07-11 07:07:01+00:00      17500.0\n",
       "2021-07-11 07:07:05+00:00       2120.0\n",
       "\n",
       "[130272 rows x 1 columns]"
      ]
     },
     "execution_count": 26,
     "metadata": {},
     "output_type": "execute_result"
    }
   ],
   "source": [
    "daily_loadweight"
   ]
  },
  {
   "cell_type": "code",
   "execution_count": 27,
   "metadata": {},
   "outputs": [
    {
     "name": "stdout",
     "output_type": "stream",
     "text": [
      "P-value: 9.04407812129728e-06\n",
      "t-statistics: 4.2874304731129\n"
     ]
    }
   ],
   "source": [
    "t_stat,p_val = stats.ttest_1samp(daily_loadweight['load_weight'], 8300)\n",
    "print('P-value:',p_val/2) # The p-value divided by 2 since the output is two-sided p-value\n",
    "print('t-statistics:',t_stat)"
   ]
  },
  {
   "cell_type": "code",
   "execution_count": 28,
   "metadata": {},
   "outputs": [
    {
     "name": "stderr",
     "output_type": "stream",
     "text": [
      "c:\\Users\\lenovo\\AppData\\Local\\Programs\\Python\\Python310\\lib\\site-packages\\seaborn\\distributions.py:2619: FutureWarning: `distplot` is a deprecated function and will be removed in a future version. Please adapt your code to use either `displot` (a figure-level function with similar flexibility) or `histplot` (an axes-level function for histograms).\n",
      "  warnings.warn(msg, FutureWarning)\n"
     ]
    },
    {
     "data": {
      "text/plain": [
       "<matplotlib.legend.Legend at 0x2192ad7bc70>"
      ]
     },
     "execution_count": 28,
     "metadata": {},
     "output_type": "execute_result"
    },
    {
     "data": {
      "image/png": "[encoded data removed]",
      "text/plain": [
       "<Figure size 1152x360 with 1 Axes>"
      ]
     },
     "metadata": {
      "needs_background": "light"
     },
     "output_type": "display_data"
    }
   ],
   "source": [
    "daily_loadweight_pop = np.random.normal(daily_loadweight['load_weight'].mean(), daily_loadweight['load_weight'].std(), 10000)\n",
    "\n",
    "ci = stats.norm.interval(0.90, daily_loadweight['load_weight'].mean(), daily_loadweight['load_weight'].std())\n",
    "\n",
    "plt.figure(figsize=(16,5))\n",
    "sns.distplot(daily_loadweight_pop, label='Daily load_weight (Population)', color='blue')\n",
    "plt.axvline(daily_loadweight['load_weight'].mean(), color='red', linewidth=2, label='Daily load_weight (Mean)')\n",
    "plt.axvline(ci[1], color='green', linestyle='dashed', linewidth=2, label='confidence threshold of 95%')\n",
    "plt.axvline(daily_loadweight_pop.mean() + t_stat*daily_loadweight_pop.std(), color='black', linestyle='dashed', linewidth=2, label = 'Alternative Hypothesis')\n",
    "plt.legend()"
   ]
  },
  {
   "cell_type": "markdown",
   "metadata": {},
   "source": [
    "**Karena p-value lebih kecil dari `0.05`, maka reject H0**. <br>\n",
    "\n",
    "\n",
    "Jadi Kesimpulan atau insight yang dapat disampaikan ke Pemerintah Kota Austin berdasarkan uji hipotesis ini adalah :\n",
    "<center>\n",
    "\n",
    "**\"*Jumlah load weight sampah di seluruh site di kota itu meningkat secara signifikan satu tahun terakhir.*\"**"
   ]
  },
  {
   "cell_type": "markdown",
   "metadata": {},
   "source": [
    "### 9. Conclusion\n",
    "\n",
    "Tarik benang merah dan kesimpulan dari perhitungan dan analisa yang telah dilakukan di langkah-langkah sebelumnya. Ceritakan kesimpulanmu kepada pemerintah kota dan **hindari** bahasa teknis yang tidak dimengerti oleh orang yang bukan data scientist!"
   ]
  },
  {
   "cell_type": "markdown",
   "metadata": {},
   "source": [
    ">***KESIMPULAN*** :\n",
    ">\n",
    ">\n",
    ">Data `waste and diversion` ini sangat menarik, karena pengambilan datanya cukup lama yaitu sekitar 21 tahun. Sehingga data-data yang tersaji cukup variatif. Terdapat tujuh site pengolahan sampah yang ada di Kota Austin yaitu ELMONT, KRAMER, WILCAB, ZILKER, CLARKSON, PARK BEND, dan TDS - MRF dan sampah olahan ketujuh site tersebut meliputi brush, tires, bulk, metal, organics, plastic bags, dan sebagainya.\n",
    ">\n",
    ">Setelah dilakukan analisis lebih lanjut, data yang sangat potensial untuk dijadikan sebagai representasi permasalahan sampah terutama di beban muatan / load weight tiap dropoff site, hanya data dari site MRF, TDS - MRF, dan ZILKER.\n",
    ">\n",
    ">Di site MRF sendiri, cakupan datanya merupakan yang terlama berdasarkan waktu pengambilan atau pengamatannya, dibandingkan site-site lain. Rentang pengambilan datanya adalah 7836 atau sekitar 21 tahun lamanya. Data dari site MRF ini cukup banyak, hingga menarik perhatian kami untuk diolah lebih lanjut.\n",
    ">\n",
    ">Walaupun memiliki rentang waktu operasi yang lama, namun site ini memiliki waste management yang baik atau recycling systemnya mempunyai siklus yang bagus, hal ini dapat dilihat dari rata-rata load weight setiap dropoff nya yang begitu kecil dibandingkan site-site lainnya.\n",
    ">\n",
    ">Setelah dilakukan observasi lanjutan, terdapat banyak data dengan nilai load weight yang tidak wajar, Jumlahnya 3581 data, namun karena banyaknya data pengamatan, sehingga proporsi data tidak wajar itu hanya berkisar 4 persen dari jumlah data awal yang berkisar 89625 data.\n",
    ">\n",
    ">Dari data tersebut, rata-rata load weight sampah untuk site MRF berkisar 4937 load weight tiap dropoff dan variasi load weight di dropoff lainnya berkisar kurang lebih ±3237 dari load weight rata rata. \n",
    ">\n",
    ">Berdasarkan data potensial (data dari site MRF, TDS - MRF, dan ZILKER) yang telah disebutkan sebelumnya, rekomendasi yang bisa kami berikan untuk pemerintah kota Austin jika akan melakukan pembangunan site baru adalah : \"Kapasitas penampungan sampah di site baru itu idealnya memiliki kapasitas tampung 19337 load weight atau lebih untuk memfasilitasi average daily dropoff sampah kota.\"\n",
    ">\n",
    ">Penutup, satu fakta menarik dan mungkin akan sangat berguna untuk Pemerintah Kota Austin yaitu : \"Dalam satu tahun terakhir, rata-rata load weight sampah untuk kota Austin meningkat secara signifikan dibandingkan dengan data 20 tahun terakhir\". Konklusi ini bisa dijadikan sebagai intervensi kebijakan pemerintah kota Austin untuk menekan prilaku konsumtif masyarakat yang menjadi salah satu penyebab naiknya produksi sampah kota.\n"
   ]
  },
  {
   "cell_type": "markdown",
   "metadata": {},
   "source": [
    "## *Questions : Pemahaman Konsep!*\n",
    "\n",
    "#### 1. Apa perbedaan statistik deskriptif dan inferensial?\n",
    "\n",
    "`\"Descriptive statistics summarize the characteristics of a data set. Inferential statistics allow you to test a hypothesis or assess whether your data is generalizable to the broader population.\"`"
   ]
  },
  {
   "cell_type": "markdown",
   "metadata": {},
   "source": [
    "Chart Komparasi\n",
    "\n",
    "| BASIS FOR COMPARISON | DESCRIPTIVE STATISTICS | INFERENTIAL STATISTICS |\n",
    "| --- | --- | --- |\n",
    "| Meaning | Bisa dikatakan sebagai Branch of Statistics atau Bagian Statistik yang berkaitan dengan penggambaran dari data yang diteliti. | Statistik untuk penarikan kesimpulan tentang data yang diteliti, berdasarkan observasi dan analisis sampel. |\n",
    "| What it does? | Handling, analisis dan penyajian data. | Membandingkan, Uji data (Hypothesis Testing dan sebagainya), serta memberikan prediksi berdasarkan data (Regression Analysis dan sebagainya). |\n",
    "| Form of final Result | Chart, Grafik, Tabel | Probability |\n",
    "| Function | Menjelaskan data (to summarize // Five Number Summary). | Mengambil kesimpulan dari data, serta bisa dijadikan acuan untuk membuat solusi dari permasalahan yang akan terjadi (to predict) berdasarkan data yang diteliti. (contoh: insight dari data \"austin waste and diversion\" dijadikan sebagai rekomendasi untuk pembangunan site baru) |"
   ]
  },
  {
   "cell_type": "markdown",
   "metadata": {},
   "source": [
    "#### 2. Metrik pada central tendency apa yang tepat digunakan untuk menyimpulkan data yang terdistribusi normal dan tidak? Apakah sama atau berbeda?\n",
    "\n",
    "Metrik dalam central tendency ada 3 yaitu mean, median dan mode. Untuk menyimpulkan data yang terdistribusi normal dan tidak metrik nya tetap sama, namun sifat korelasi antar metrik berbeda untuk data distribusi normal dan non normal. \n",
    "- `If a frequency distribution graph has a symmetrical frequency curve, then mean, median and mode will be equal.` <br> Jika $Mean = Median = Mode$, maka data terdistribusi normal.\n",
    "- `In case of a positively skewed frequency distribution, the mean is always greater than median and the median is always greater than the mode.` <br> Jika $Mean > Median > Mode$, maka data Positif Skew atau Skew Kanan.\n",
    "- `In case of a negatively skewed frequency distribution, the mean is always lesser than median and the median is always lesser than the mode.` <br> Jika $Mean < Median < Mode$, maka data Negatif Skew atau Skew Kiri."
   ]
  },
  {
   "cell_type": "markdown",
   "metadata": {},
   "source": [
    "#### 3. Teknik apa yang kamu pilih untuk handling outlier? jelaskan alasannya!\n",
    "\n",
    "***Tukey's Rule***, karena datanya **terdistribusi non normal**. <br> Tidak digunakan Z-score karena teknik ini diperuntukkan hanya untuk data yang terdistribusi normal."
   ]
  },
  {
   "cell_type": "markdown",
   "metadata": {},
   "source": [
    "#### 4. Apa konsep dibalik central tendency hingga digunakan untuk menyelesaikan langkah pada nomor 7?\n",
    "\n",
    "Di nomor 7 kita membahas tentang *Confidence Interval*. Dimana, untuk mencari nilai *CI*, kita tinggal memasukkan isi parameter-parameter yang ada di `scipy.stats.norm.interval` yaitu `scipy.stats.norm.interval(a, b, c)` dengan a = alpha, b = mean, c = standar deviasi. Namun, jika ditelaah lebih jauh, mari kita lihat rumus sebenarnya dari confidence interval :\n",
    "<center>\n",
    "\n",
    "$CI=\\mu±t(\\frac{\\sigma}{\\sqrt{n}})$ <br>"
   ]
  },
  {
   "cell_type": "markdown",
   "metadata": {},
   "source": [
    "$\\mu$ = rata-rata data<br>\n",
    "$t$ = degrees of freedom (sample size, alpha)<br>\n",
    "$\\sigma$ = standar deviasi<br>\n",
    "$n$ =  jumlah data\n",
    "\n",
    "`A confidence interval for the mean is a way of estimating the true population mean. Instead of a single number for the mean, a confidence interval gives you a lower estimate and an upper estimate.` Jadi, besaran nilai rata-rata atau mean dari suatu data populasi sangat berpengaruh terhadap penentuan *CI*. Sebaliknya, *CI* mengindikasikan interval atau range yang didalamnya terdapat mean dari suatu populasi dengan keakuratan 95% (jika diasumsikan cofidence level yang kita ambil $95%$). Karena mean merupakan salah satu metrik central tendency, itulah mengapa Central Tendency Data sangat berkorelasi kuat dengan penentuan Confidence Interval."
   ]
  },
  {
   "cell_type": "markdown",
   "metadata": {},
   "source": [
    "#### 5. Jelaskan jenis uji hipotesis apa yang kamu terapkan dan mengapa?"
   ]
  },
  {
   "cell_type": "markdown",
   "metadata": {},
   "source": [
    "**Uji Hipotesis : *single sample one sided***<br>\n",
    "Metode ini digunakan jika variabel uji hanya satu dan perbandingannya terletak di sampel dan populasi data yang diasumsikan. Untuk kasus ini, `rata-rata load weight` adalah variabel tunggal yang di uji dan komparasinya hanya di sampel (data satu tahun terakhir) dan populasi (yang diasumsikan data 20 tahun terakhir)."
   ]
  }
 ],
 "metadata": {
  "interpreter": {
   "hash": "213524bb45a1aeaf737b1d8c77d7b8db5d425938d9dffc5f4bc6fe6dd3324700"
  },
  "kernelspec": {
   "display_name": "Python 3.10.2 64-bit",
   "language": "python",
   "name": "python3"
  },
  "language_info": {
   "codemirror_mode": {
    "name": "ipython",
    "version": 3
   },
   "file_extension": ".py",
   "mimetype": "text/x-python",
   "name": "python",
   "nbconvert_exporter": "python",
   "pygments_lexer": "ipython3",
   "version": "3.10.2"
  },
  "orig_nbformat": 4
 },
 "nbformat": 4,
 "nbformat_minor": 2
}
